{
 "cells": [
  {
   "cell_type": "code",
   "execution_count": 1,
   "metadata": {},
   "outputs": [],
   "source": [
    "from Bio import Entrez, SeqIO\n",
    "\n",
    "enzlist =    ['Triosephosphate isomerase' ,\n",
    "                'Phosphoglycerate kinase'  ,\n",
    "        'Phosphoenolpyruvate carboxylase'  ,\n",
    "                        'Pyruvate kinase'  ,\n",
    "      'Glucose-6-phosphate dehydrogenase'  ,\n",
    "                       'Gluconolactonase'  ,\n",
    "       '6-phosphogluconate dehydrogenase'  ,\n",
    "                          'Transaldolase' ,\n",
    "               'Succinate dehydrogenase' ,\n",
    "                              'Fumarase', \n",
    "                 'Malate dehydrogenase',\n",
    "                     'Citrate synthase' ]\n",
    "\n",
    "orglist = ['Drosophila melanogaster', 'Homo sapiens', 'Escherichia coli']\n",
    "\n",
    "\n",
    "Entrez.email = 'ben4945@berkeley.edu'\n",
    "\n",
    "for enz in enzlist:\n",
    "    for org in orglist:\n",
    "        handle = Entrez.esearch(db = 'nucleotide', term = enz+org, sort = 'relevance', idtype = 'acc')\n",
    "        \n",
    "        \n",
    "        \n",
    "        \n",
    "#         for i in Entrez.read(handle)['IdList']:\n",
    "#             h = Entrez.efetch(db = 'nucleotide', id=i, rettype = 'fasta', retmode = 'text')\n",
    "#             print(h.read())\n",
    "            "
   ]
  },
  {
   "cell_type": "code",
   "execution_count": null,
   "metadata": {},
   "outputs": [],
   "source": []
  },
  {
   "cell_type": "code",
   "execution_count": null,
   "metadata": {},
   "outputs": [],
   "source": []
  },
  {
   "cell_type": "code",
   "execution_count": null,
   "metadata": {},
   "outputs": [],
   "source": []
  }
 ],
 "metadata": {
  "kernelspec": {
   "display_name": "Python 3",
   "language": "python",
   "name": "python3"
  },
  "language_info": {
   "codemirror_mode": {
    "name": "ipython",
    "version": 3
   },
   "file_extension": ".py",
   "mimetype": "text/x-python",
   "name": "python",
   "nbconvert_exporter": "python",
   "pygments_lexer": "ipython3",
   "version": "3.5.2"
  }
 },
 "nbformat": 4,
 "nbformat_minor": 2
}
