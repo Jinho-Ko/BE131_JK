{
 "cells": [
  {
   "cell_type": "markdown",
   "metadata": {},
   "source": [
    "# Pre\n",
    "\n"
   ]
  },
  {
   "cell_type": "markdown",
   "metadata": {},
   "source": [
    "YES-1  \n",
    "Secondary structure\n",
    "models for the most stable conformers as\n",
    "computed using the partition function algorithm\n",
    "in the absence (OFF) or presence (ON) of a 22-\n",
    "nucleotide DNA effector. The effector-binding\n",
    "site (light blue) is joined to nucleotides 10.1 and\n",
    "11.1 of the hammerhead core via eight- and\n",
    "six-nucleotide linkers. In the ON state, most of\n",
    "these linker nucleotides are predicted to form an\n",
    "extended stem II structure (red). To the right of\n",
    "each model is a dot matrix plot wherein larger\n",
    "points reflect greater probability of base pairing.\n",
    "Encircled points reflect the main differences in\n",
    "predicted structures between the OFF (stem IV)\n",
    "and ON (stem II) states. Nucleotides 1 through\n",
    "79 are numbered from 5¢ to 3¢ across the top\n",
    "and right of the plots. Schematic representations\n",
    "of the logic states of the constructs are shown\n",
    "in this and subsequent figures.\n",
    "\n",
    "NOT-1  \n",
    "Secondary structure models for the most stable\n",
    "conformers predicted in the absence (ON) and\n",
    "presence (OFF) of a 23-nucleotide effector. Dot\n",
    "matrix plots for the construct are presented in\n",
    "Supplementary Figure 5 online.\n",
    "\n",
    "AND-1  \n",
    "is designed to form the active hammerhead\n",
    "structure and self-cleave only when presented\n",
    "simultaneously with its two corresponding\n",
    "effector DNAs (DNA-7 and DNA-8). The dot\n",
    "matrix plots for the ON state showing some\n",
    "character of the OFF states (stem IV) is depicted.\n",
    "Dot matrix plots for the three OFF states are\n",
    "presented in Supplementary Figure 7 online.\n",
    "\n",
    "OR-1  \n",
    "is designed to\n",
    "trigger self-cleavage when either effector (DNA-9 or DNA-10) or both effectors are present. Dot matrix plots for each of the four structures are presented\n",
    "in Supplementary Figure 7 online."
   ]
  },
  {
   "cell_type": "code",
   "execution_count": null,
   "metadata": {},
   "outputs": [],
   "source": [
    "# (1) riboswitch name, (2) start and end coordinates of OBS-1 (blue region), (3) start \n",
    "# and end coordinates of OBS-2 (blue region, only applicable to AND-1 and OR-1), and (4) start and end coordinates of the two red regions.\n",
    "\n",
    "info = [('YES-1', (26, 47), (16,21), (49,54) ),              # OBS1 RED1 RED2\n",
    "        ('NOT-1', (44,66), (40,43), (74,77)),                # OBS1 RED1 RED2\n",
    "        ('AND-1', (30,45), (49,64), (16,23), (70,77)),       # OBS1 OBS2 RED1 RED2\n",
    "        ('OR-1', (27,46), (47,66), (16,26), (67,77) ) ]      # OBS1 OBS2 RED1 RED2\n",
    "\n"
   ]
  },
  {
   "cell_type": "code",
   "execution_count": null,
   "metadata": {},
   "outputs": [],
   "source": [
    "seq = [\n",
    "    \n",
    "    'GGGCGACCCUGAUGAGCUUGAGUUUAGCUCGUCACUGUCCAGGUUCAAUCAGGCGAAACGGUGAAAGCCGUAGGUUGCCC',\n",
    "    'GGCAGGUACAUACAGCUGAUGAGUCCCAAAUAGGACGAAACGCGACACACACCACUAAACCGUGCAGUGUUUUGCGUCCUGUAUUCCACUGC'\n",
    "    'GGGCGACCCUGAUGAGCUUGGUUUAGUAUUUACAGCUCCAUACAUGAGGUGUUAUCCCUAUGCAAGUUCGAUCAGGCGAAACGGUGAAAGCCG3UAGGUUGCCCAGAGACAAU'\n",
    "    'GGGCGACCCUGAUGAGCUUGGUUGAGUAUUUACAGCUCCAUACAUGAGGUGUUCUCCCUACGCAAGUUCGAUCAGGCGAAACGGUGAAAGCCGUAGGUUGCCC'\n",
    "]\n"
   ]
  },
  {
   "cell_type": "code",
   "execution_count": null,
   "metadata": {},
   "outputs": [],
   "source": [
    "print(len(seq[0]))"
   ]
  },
  {
   "cell_type": "code",
   "execution_count": null,
   "metadata": {},
   "outputs": [],
   "source": []
  }
 ],
 "metadata": {
  "kernelspec": {
   "display_name": "Python 3",
   "language": "python",
   "name": "python3"
  },
  "language_info": {
   "codemirror_mode": {
    "name": "ipython",
    "version": 3
   },
   "file_extension": ".py",
   "mimetype": "text/x-python",
   "name": "python",
   "nbconvert_exporter": "python",
   "pygments_lexer": "ipython3",
   "version": "3.5.2"
  }
 },
 "nbformat": 4,
 "nbformat_minor": 2
}
