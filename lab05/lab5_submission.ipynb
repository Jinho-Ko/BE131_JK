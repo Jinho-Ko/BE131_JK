{
 "cells": [
  {
   "cell_type": "markdown",
   "metadata": {},
   "source": [
    "# Lab Notebook\n",
    "\n",
    "    Course: BioE 131\n",
    "    Lab No: Lab #5\n",
    "    Submission date: 09/26/2018\n",
    "    \n",
    "    Team members: Michael Fernandez, Jinho Ko\n",
    "    "
   ]
  },
  {
   "cell_type": "markdown",
   "metadata": {},
   "source": [
    "# Collecting datas from the paper  \n",
    "\n",
    "Sequence, OBS, Site II information from:\n",
    "- Penchovsky, Robert, and Ronald R. Breaker. \"Computational design and experimental validation of oligonucleotide-sensing allosteric ribozymes.\" Nature biotechnology 23.11 (2005): 1424.  "
   ]
  },
  {
   "cell_type": "code",
   "execution_count": 2,
   "metadata": {},
   "outputs": [],
   "source": [
    "# (1) riboswitch name, (2) start and end coordinates of OBS-1 (blue region), (3) start \n",
    "# and end coordinates of OBS-2 (blue region, only applicable to AND-1 and OR-1), and (4) start and end coordinates of the two red regions.\n",
    "\n",
    "info = [('YES-1', (26, 47), (16,21), (49,54) ),              # YES-1 OBS1 RED1 RED2\n",
    "        ('NOT-1', (44,66), (40,43), (74,77)),                # NO-1 OBS1 RED1 RED2\n",
    "        ('AND-1', (30,45), (49,64), (16,23), (70,77)),       # AND-1 OBS1 OBS2 RED1 RED2\n",
    "        ('OR-1', (27,46), (47,66), (16,26), (67,77) ) ]      # OR-1 OBS1 OBS2 RED1 RED2\n",
    "\n",
    "seqs = [\n",
    "    \n",
    "    'GGGCGACCCUGAUGAGCUUGAGUUUAGCUCGUCACUGUCCAGGUUCAAUCAGGCGAAACGGUGAAAGCCGUAGGUUGCCC',                                   # YES-1\n",
    "    'GGCAGGUACAUACAGCUGAUGAGUCCCAAAUAGGACGAAACGCGACACACACCACUAAACCGUGCAGUGUUUUGCGUCCUGUAUUCCACUGC',                       # NO-1\n",
    "    'GGGCGACCCUGAUGAGCUUGGUUUAGUAUUUACAGCUCCAUACAUGAGGUGUUAUCCCUAUGCAAGUUCGAUCAGGCGAAACGGUGAAAGCCGUAGGUUGCCCAGAGACAAU',   # AND-1\n",
    "    'GGGCGACCCUGAUGAGCUUGGUUGAGUAUUUACAGCUCCAUACAUGAGGUGUUCUCCCUACGCAAGUUCGAUCAGGCGAAACGGUGAAAGCCGUAGGUUGCCC'             # OR-1\n",
    "]\n"
   ]
  },
  {
   "cell_type": "code",
   "execution_count": 7,
   "metadata": {},
   "outputs": [],
   "source": [
    "# RNAfold, RNaplot from the sequence\n",
    "import subprocess"
   ]
  },
  {
   "cell_type": "code",
   "execution_count": 5,
   "metadata": {},
   "outputs": [],
   "source": [
    "def RNAplot(seq):\n",
    "    \n",
    "    for iterator, i in enumerate(seq):\n",
    "    \n",
    "        # Do Rnaplot\n",
    "        p = subprocess.run(['RNAfold'],\n",
    "                 input = bytes(i,'ascii'),\n",
    "                 stdout = subprocess.PIPE,\n",
    "                 stderr = subprocess.PIPE)\n",
    "        #print(p.stdout.decode())\n",
    "        st = str(p.stdout.decode())\n",
    "    \n",
    "        # Proceding datas from the result of RNAfold\n",
    "        sequence = []\n",
    "        new = []\n",
    "    \n",
    "        a = False\n",
    "        for letter in list(st):\n",
    "            if letter in ('G','U','C','A'):\n",
    "                sequence.append(letter)\n",
    "                continue\n",
    "            if letter in ('(',')','.'):\n",
    "                a = True\n",
    "            if letter is ' ':\n",
    "                break\n",
    "            if a:\n",
    "                new.append(letter)\n",
    "    \n",
    "        sequence = \"\".join(sequence)\n",
    "        new = \"\".join(new)\n",
    "    \n",
    "        print(\"\".join(sequence))\n",
    "        print(\"\".join(new))\n",
    "    \n",
    "        # Do RNAplot with the procecded data\n",
    "        \n",
    "\n",
    "        pp = subprocess.run(['RNAplot','--output-format=svg'], input = bytes(sequence+'\\n'+new+'\\n@', 'ascii'), stdout = subprocess.PIPE, stderr = subprocess.PIPE)\n",
    "        print(pp.stderr.decode())\n",
    "            \n",
    "        # Change filename properly\n",
    "        ppp = subprocess.run(['mv', './rna.svg', './rna'+str(iterator)+'.svg' ], stdout = subprocess.PIPE, stderr = subprocess.PIPE)\n",
    "        \n"
   ]
  },
  {
   "cell_type": "code",
   "execution_count": 22,
   "metadata": {},
   "outputs": [
    {
     "name": "stdout",
     "output_type": "stream",
     "text": [
      "GGGCGACCCUGAUGAGCUUGAGUUUAGCUCGUCACUGUCCAGGUUCAAUCAGGCGAAACGGUGAAAGCCGUAGGUUGCCC\n",
      "((((((((.(((((((((.......))))))))).((.((.(((...))).))))..(((((....))))).))))))))\n",
      "\n",
      "GGCAGGUACAUACAGCUGAUGAGUCCCAAAUAGGACGAAACGCGACACACACCACUAAACCGUGCAGUGUUUUGCGUCCUGUAUUCCACUGC\n",
      ".((((....((((((.......((((......))))...((((((.((((..(((......)))..)))).)))))).))))))....))))\n",
      "\n",
      "GGGCGACCCUGAUGAGCUUGGUUUAGUAUUUACAGCUCCAUACAUGAGGUGUUAUCCCUAUGCAAGUUCGAUCAGGCGAAACGGUGAAAGCCGUAGGUUGCCCAGAGACAAU\n",
      "((((((((((((((((((((...(((.....(((.(((.......))).))).....)))..))))))).))))).....(((((....))))).)))))))).........\n",
      "\n",
      "GGGCGACCCUGAUGAGCUUGGUUGAGUAUUUACAGCUCCAUACAUGAGGUGUUCUCCCUACGCAAGUUCGAUCAGGCGAAACGGUGAAAGCCGUAGGUUGCCC\n",
      "((((((((((((((((((((((.(((.....(((.(((.......))).))).)))...)).))))))).))))).....(((((....))))).))))))))\n",
      "\n"
     ]
    }
   ],
   "source": [
    "RNAplot(seqs)"
   ]
  },
  {
   "attachments": {},
   "cell_type": "markdown",
   "metadata": {},
   "source": [
    "# Comparison BEFORE setting parameters\n",
    "\n",
    "![comarison_before_parameter.jpg](result_image/comarison_before_parameter.jpg)\n",
    "\n",
    "First We converted the result 'rnaX.svg' file into jpg format in our own Windows computer. Then we collaged the images from the result/ from the paper and indexed to compare the shape.\n",
    "\n",
    "\n",
    "The results wasn't perfectly identical with the images from the original paper.  \n",
    "\n",
    "\n",
    "Source of the lower part of the Image:\n",
    "- Penchovsky, Robert, and Ronald R. Breaker. \"Computational design and experimental validation of oligonucleotide-sensing allosteric ribozymes.\" Nature biotechnology 23.11 (2005): 1424.  \n"
   ]
  },
  {
   "cell_type": "markdown",
   "metadata": {},
   "source": [
    "# Description of differences\n",
    "\n",
    "For YES-1, our result makes 4 stems in False input, while the gate in the paper makes 3. The second long stem(from 9 to 52) in paper is divided into 2 individual stems, each forming complementary pair, and their stem.  \n",
    "For NOT-1, the result were same with the one from the paper.  \n",
    "For AND-1, the result were same with the one from the paper. (there's a little cut in the paper's picture(from 30-50) but same anyway.)  \n",
    "For OR-1 , the result were same with the one from the paper.\n",
    "\n",
    "The research team controlled the temperture using softwares such as RNAheat, and thought about the stability of the folded RNA while temperature changes from 20'C to 40'C. They found 'dominant structure' for each bio-logic gate. However, what we inserted was just sequences itself, without other additional process. So the program(RNAplot) might print out the results that are less likely to exist in real conditions."
   ]
  },
  {
   "cell_type": "code",
   "execution_count": 65,
   "metadata": {},
   "outputs": [],
   "source": [
    "# adding constraints \n",
    "\n",
    "outfile =[]\n",
    "outfilename = []\n",
    "for i, name in enumerate(info[:2]):  # for YES/NOT\n",
    "    outfilename.append(name[0]+'_constraints.txt')\n",
    "    outfile.append(open(name[0]+'_constraints.txt', 'w'))\n",
    "    \n",
    "    p = subprocess.run(['RNAfold'],\n",
    "                 input = bytes(seqs[i],'ascii'),\n",
    "                 stdout = subprocess.PIPE,\n",
    "                 stderr = subprocess.PIPE)\n",
    "    #print(p.stdout.decode())\n",
    "    st = str(p.stdout.decode())\n",
    "    \n",
    "    # Proceding datas from the result of RNAfold\n",
    "    sequence = []\n",
    "    new = []\n",
    "    \n",
    "    a = False\n",
    "    for letter in list(st):\n",
    "        if letter in ('G','U','C','A'):\n",
    "            sequence.append(letter)\n",
    "            continue\n",
    "        if letter in ('(',')','.'):\n",
    "            a = True\n",
    "        if letter is ' ':\n",
    "            break\n",
    "        if a:\n",
    "            new.append(letter)\n",
    "    \n",
    "    sequence = \"\".join(sequence)                  # Add Sequence to the file    \n",
    "    outfile[i].write(sequence+'\\n')               \n",
    "    \n",
    "    o1_s , o1_e = name[1]\n",
    "    \n",
    "    for j in range(o1_s-1):\n",
    "        outfile[i].write('.')\n",
    "    for j in range(o1_e-o1_s+1):\n",
    "        outfile[i].write('x')\n",
    "    for j in range( len(seq[i])-o1_e):\n",
    "        outfile[i].write('.')                      # Write constraints to the file\n",
    "\n",
    "    outfile[i].close()\n",
    "    \n"
   ]
  },
  {
   "cell_type": "code",
   "execution_count": 15,
   "metadata": {},
   "outputs": [
    {
     "name": "stdout",
     "output_type": "stream",
     "text": [
      "run\n",
      "run\n",
      "run\n",
      "run\n",
      "run\n",
      "run\n"
     ]
    }
   ],
   "source": [
    "outfile =[]\n",
    "outfilename2 = []\n",
    "\n",
    "for i, name in enumerate(info[2:4]):  # for AND/OR\n",
    "\n",
    "    tt= [(True,True),(True,False),(False,True)]\n",
    "    \n",
    "    for f, n in enumerate(tt):\n",
    "        \n",
    "        outfilename2.append(name[0]+str(n[0])[:1]+str(n[1])[:1]+'_constraints.txt')\n",
    "        outfile.append(open(name[0]+str(n[0])[:1]+str(n[1])[:1]+'_constraints.txt', 'w'))\n",
    "    \n",
    "        p = subprocess.run(['RNAfold'],\n",
    "                 input = bytes(seqs[i+2],'ascii'),\n",
    "                 stdout = subprocess.PIPE,\n",
    "                 stderr = subprocess.PIPE)\n",
    "        #print(p.stdout.decode())\n",
    "        st = str(p.stdout.decode())\n",
    "    \n",
    "        # Proceding datas from the result of RNAfold\n",
    "        sequence = []\n",
    "        new = []\n",
    "    \n",
    "        a = False\n",
    "        for letter in list(st):\n",
    "            if letter in ('G','U','C','A'):\n",
    "                sequence.append(letter)\n",
    "                continue\n",
    "            if letter in ('(',')','.'):\n",
    "                a = True\n",
    "            if letter is ' ':\n",
    "                break\n",
    "            if a:\n",
    "                new.append(letter)\n",
    "    \n",
    "        sequence = \"\".join(sequence)                  \n",
    "        outfile[i*3+f].write(sequence+'\\n') \n",
    "    \n",
    "        st1 , end1 = name[1]\n",
    "        st2, end2 = name[2]\n",
    "    \n",
    "        \n",
    "        \n",
    "        for j in range(st1-1):\n",
    "            outfile[i*3+f].write('.')\n",
    "            \n",
    "        for j in range(end1-st1+1):\n",
    "            if n[0]:\n",
    "                outfile[i*3+f].write('x')\n",
    "            else:\n",
    "                outfile[i*3+f].write('.')\n",
    "                \n",
    "        for j in range(st2-end1-1):\n",
    "            outfile[i*3+f].write('.')\n",
    "        \n",
    "        for j in range(end2-st2+1):\n",
    "            if n[1]:\n",
    "                outfile[i*3+f].write('x')\n",
    "            else:\n",
    "                outfile[i*3+f].write('.')\n",
    "\n",
    "        for j in range( len(seqs[i+2])-end2 ):\n",
    "            outfile[i*3+f].write('.')\n",
    "                \n",
    "                \n",
    "        outfile[i*3+f].close()\n",
    "        \n",
    "        print(\"run\")\n",
    "\n",
    "            "
   ]
  },
  {
   "cell_type": "markdown",
   "metadata": {},
   "source": [
    "# Creating RNAplot with OBS constrained"
   ]
  },
  {
   "cell_type": "code",
   "execution_count": 17,
   "metadata": {},
   "outputs": [],
   "source": [
    "def RNAplot_C(filename, seq):\n",
    "    \n",
    "    # Make ps file with constraints\n",
    "    \n",
    "    tmp = open(filename,'r')\n",
    "    tmp = \"\"+tmp.read()\n",
    "\n",
    "    pp = subprocess.run(['RNAfold','-C'], input = (tmp+'\\n@').encode('ascii'), stdout = subprocess.PIPE, stderr = subprocess.PIPE)\n",
    "    print(pp.stderr.decode())\n",
    "    print(pp.stdout.decode())\n",
    "            \n",
    "    # Change filename properly\n",
    "    ppp = subprocess.run(['mv', './rna.ps', './rnaC_'+filename[:-16]+'.ps' ], stdout = subprocess.PIPE, stderr = subprocess.PIPE)"
   ]
  },
  {
   "cell_type": "code",
   "execution_count": 20,
   "metadata": {},
   "outputs": [
    {
     "name": "stdout",
     "output_type": "stream",
     "text": [
      "\n",
      "GGGCGACCCUGAUGAGCUUGGUUUAGUAUUUACAGCUCCAUACAUGAGGUGUUAUCCCUAUGCAAGUUCGAUCAGGCGAAACGGUGAAAGCCGUAGGUUGCCCAGAGACAAU\n",
      "((((((((((((((((((..............................................))))).))))).....(((((....))))).))))))))......... (-27.64)\n",
      "\n",
      "\n",
      "GGGCGACCCUGAUGAGCUUGGUUUAGUAUUUACAGCUCCAUACAUGAGGUGUUAUCCCUAUGCAAGUUCGAUCAGGCGAAACGGUGAAAGCCGUAGGUUGCCCAGAGACAAU\n",
      "((((((((((((((((((((..........................(((.(....))))...))))))).))))).....(((((....))))).))))))))......... (-33.90)\n",
      "\n",
      "\n",
      "GGGCGACCCUGAUGAGCUUGGUUUAGUAUUUACAGCUCCAUACAUGAGGUGUUAUCCCUAUGCAAGUUCGAUCAGGCGAAACGGUGAAAGCCGUAGGUUGCCCAGAGACAAU\n",
      "((((((((((((((((((..............................................))))).))))).....(((((....))))).))))))))......... (-27.64)\n",
      "\n",
      "\n",
      "GGGCGACCCUGAUGAGCUUGGUUUAGUAUUUACAGCUCCAUACAUGAGGUGUUAUCCCUAUGCAAGUUCGAUCAGGCGAAACGGUGAAAGCCGUAGGUUGCCCAGAGACAAU\n",
      "((((((((((((((((((((..........................(((.(....))))...))))))).))))).....(((((....))))).))))))))......... (-33.90)\n",
      "\n",
      "\n",
      "GGGCGACCCUGAUGAGCUUGGUUUAGUAUUUACAGCUCCAUACAUGAGGUGUUAUCCCUAUGCAAGUUCGAUCAGGCGAAACGGUGAAAGCCGUAGGUUGCCCAGAGACAAU\n",
      "(((((((((((((((((((((...(((.......))))))........................))))).))))).....(((((....))))).))))))))......... (-29.60)\n",
      "\n",
      "\n",
      "GGGCGACCCUGAUGAGCUUGGUUGAGUAUUUACAGCUCCAUACAUGAGGUGUUCUCCCUACGCAAGUUCGAUCAGGCGAAACGGUGAAAGCCGUAGGUUGCCC\n",
      "((((((((.......(((((((((((........................................)))))))))))...(((((....))))).)))))))) (-29.09)\n",
      "\n",
      "\n",
      "GGGCGACCCUGAUGAGCUUGGUUGAGUAUUUACAGCUCCAUACAUGAGGUGUUCUCCCUACGCAAGUUCGAUCAGGCGAAACGGUGAAAGCCGUAGGUUGCCC\n",
      "((((((((((((((((((((((.(((...........................)))...)).))))))).))))).....(((((....))))).)))))))) (-34.20)\n",
      "\n",
      "\n",
      "GGGCGACCCUGAUGAGCUUGGUUGAGUAUUUACAGCUCCAUACAUGAGGUGUUCUCCCUACGCAAGUUCGAUCAGGCGAAACGGUGAAAGCCGUAGGUUGCCC\n",
      "((((((((.......(((((((((((........................................)))))))))))...(((((....))))).)))))))) (-29.09)\n",
      "\n"
     ]
    }
   ],
   "source": [
    "RNAplot_C(outfilename[0], seqs[0])\n",
    "RNAplot_C(outfilename[1], seqs[1])\n",
    "RNAplot_C(outfilename2[0], seqs[2])\n",
    "RNAplot_C(outfilename2[1], seqs[2])\n",
    "RNAplot_C(outfilename2[2], seqs[2])\n",
    "RNAplot_C(outfilename2[3], seqs[3])\n",
    "RNAplot_C(outfilename2[4], seqs[3])\n",
    "RNAplot_C(outfilename2[5], seqs[3])\n"
   ]
  },
  {
   "attachments": {},
   "cell_type": "markdown",
   "metadata": {},
   "source": [
    "# Comparison AFTER setting parameters - YES-1 , NOT-1\n",
    "\n",
    "![comparison_after_parameter_YES_NOT.jpg](result_image/comparison_after_parameter_YES_NOT.jpg)\n",
    "\n",
    "For YES-1, NO-1 gate, we can easily verify that the result corresponds to the form in the paper.\n",
    "\n",
    "- Penchovsky, Robert, and Ronald R. Breaker. \"Computational design and experimental validation of oligonucleotide-sensing allosteric ribozymes.\" Nature biotechnology 23.11 (2005): 1424.  "
   ]
  },
  {
   "attachments": {},
   "cell_type": "markdown",
   "metadata": {},
   "source": [
    "# Comparison AFTER setting parameters - AND-1\n",
    "\n",
    "\n",
    "![comparison_after_parameter_AND-1.jpg](result_image/comparison_after_parameter_AND-1.jpg)\n",
    "\n",
    "For AND gate, the result did not show up properly. For TF and FT for AND gate, the result was same with the data shown from the paper, and since a part of stem II region combined wih one of OBS site, stem II was not formed(which results to False) in our result.  \n",
    "However, for TT input, the stem II should be made, but it didn't. Though the pairing between OBS site and stem II region didn't happen(due to OBS-DNA pairing), the pairing didn't change for the stem II region still. Therefore, the stem remained still as a form of stem IV.\n",
    "\n",
    "- Penchovsky, Robert, and Ronald R. Breaker. \"Computational design and experimental validation of oligonucleotide-sensing allosteric ribozymes.\" Nature biotechnology 23.11 (2005): 1424.  "
   ]
  },
  {
   "attachments": {},
   "cell_type": "markdown",
   "metadata": {},
   "source": [
    "# Comparison AFTER setting parameters - OR-1\n",
    "\n",
    "\n",
    "![comparison_after_parameter_OR-1.jpg](result_image/comparison_after_parameter_OR-1.jpg)\n",
    "\n",
    "\n",
    "For the first case, where OR-1 is OBS-2 bound, true, and OBS-1 unbound, false, the structure matches the one in the paper.\n",
    "\n",
    "In the case where OBS-1 is bound, true and OBS-2 is unbound, false, the stuctures are much different. In this case the OBS-2 sequence is bound partially to right before the OBS-1. In this case 'CUCCCUACGCAAG' is the section of OBS-2 that is now bound as oppose to the original where this is not the case\n",
    "\n",
    "And lastly for the OR-1 where both OBS-1 and OBS-2 are bound and their states are true the structure we created is identical to the structure in the paper.\n",
    "\n",
    "- Penchovsky, Robert, and Ronald R. Breaker. \"Computational design and experimental validation of oligonucleotide-sensing allosteric ribozymes.\" Nature biotechnology 23.11 (2005): 1424.  "
   ]
  },
  {
   "cell_type": "code",
   "execution_count": null,
   "metadata": {},
   "outputs": [],
   "source": []
  }
 ],
 "metadata": {
  "kernelspec": {
   "display_name": "Python 3",
   "language": "python",
   "name": "python3"
  },
  "language_info": {
   "codemirror_mode": {
    "name": "ipython",
    "version": 3
   },
   "file_extension": ".py",
   "mimetype": "text/x-python",
   "name": "python",
   "nbconvert_exporter": "python",
   "pygments_lexer": "ipython3",
   "version": "3.5.2"
  }
 },
 "nbformat": 4,
 "nbformat_minor": 2
}
