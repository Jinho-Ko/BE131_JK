{
 "cells": [
  {
   "cell_type": "markdown",
   "metadata": {},
   "source": [
    "# Bioe131/231 Final Project Part 1\n",
    "\n",
    "Group Members: Katherine Bigelow, Michael Fernandez, Jinho Ko, Debbie Pao, Karinna Vivanco  \n",
    "Submission Date : Nov 7, 2018"
   ]
  },
  {
   "cell_type": "markdown",
   "metadata": {},
   "source": [
    "### Metagenome Assembly using Metaspades.py\n"
   ]
  },
  {
   "cell_type": "markdown",
   "metadata": {},
   "source": [
    "Using a similar structure to the one in lab 8, we wrote the following spades command in a screen in the terminal:\n",
    "\n",
    "spades.py -1 /data/metagenomes/160523Alm_D16-4702_1_sequence.fastq.gz -2 /data/metagenomes/160523Alm_D16-4702_2_sequence.fastq.gz -o spades_finalproject --meta -m 64 -t 1\n",
    "\n",
    "This process crashed after a couple of hours.  We increased the memory option for spades to 128, but still received an error after over 40 hours of running.  During this 40 hour stretch, the process was mostly in 'D' mode signifiying it was in an uniterrruptable sleeping state.  Our GSI said that was likely due to a lack of memory issue.\n",
    "\n",
    "We refer the log file of our failure at the end of this report. Spades raised **error code - 9**, which is the process being force-killed by system. We concluded this error as the problem of server, while many spades are running at the same time."
   ]
  },
  {
   "cell_type": "markdown",
   "metadata": {},
   "source": [
    "### Histogram of Contig Lengths and N50 values\n",
    "When you’re done, plot a histogram of contig lengths from your metagenome assembly in \n",
    "iPython, along with the N50.  \n",
    "**For Spades problem stated above, we couldn't get contigs data and plot histogram in this report. We will add this at the report of Part 2.**"
   ]
  },
  {
   "cell_type": "markdown",
   "metadata": {},
   "source": [
    "### Web services: OneCodex Summary\n",
    "\n",
    "Summarize the results of either MetaPhlAn or One Codex, giving us an idea of what kind of microbes were living in your soil sample.\n",
    "\n",
    "OneCodex Id : mike.ferna512@berkeley.edu   \n",
    "OneCodex PW : c3RcxCH39jigjCi  "
   ]
  },
  {
   "cell_type": "markdown",
   "metadata": {},
   "source": [
    "After we uploaded the first metagenome to One Codex (160523Alm_D16-4702_1_sequence.fastq.gz), we see that this is a mixed metagenome where 7.99% of the 140,181,978 reads were classified by One Codex. There is not a high abundance of one type of microbe. The types of microbes that were living in the soil sample 160523Alm_D16-4702_1_sequence.fastq.gz are: \n",
    "\n",
    "Type of Microbe || Abundance (%)  \n",
    "Actinomyces odontolyticus || 9.42%  \n",
    "Armatimonadetes bacterium 13_1_40CM_64_14 || 6.73%  \n",
    "Candidatus Rokubacteria bacterium 13_1_20CM_2_69_58 || 5.45%  \n",
    "Actinobacteria bacterium 13_1_40CM_4_65_12 || 5.37%  \n",
    "Ktedonobacter sp. 13_1_20CM_3_54_15 || 4.92%  \n",
    "Crenarchaeota archaeon 13_1_40CM_3_52_10 || 4.54%  \n",
    "Acidobacteria bacterium 13_1_40CM_4_58_4 || 4.51%  \n",
    "Sphingomonas sp. NIC1 || 3.98%  \n",
    "Nitrospirae bacterium 13_2_20CM_2_63_8 || 2.59%  \n",
    "Cutibacterium acnes || 2.47%  \n",
    "(Remaining) || 50.00%  "
   ]
  },
  {
   "cell_type": "markdown",
   "metadata": {},
   "source": [
    "For the second mixed metagenome (160523Alm_D16-4702_2_sequence.fastq.gz), 7.59% of the 140,181,978 reads were classified. Similar to the first metagenome, there is not a single dominating microbe in the metagenome. The types of microbes here are:  \n",
    "\n",
    "Type of Microbe || Abundance (%)  \n",
    "Actinomyces odontolyticus || 9.96%  \n",
    "Armatimonadetes bacterium 13_1_40CM_64_14 || 6.56%  \n",
    "Actinobacteria bacterium 13_1_40CM_4_65_12 || 6.27%  \n",
    "Candidatus Rokubacteria bacterium 13_1_20CM_2_69_58 || 5.39%  \n",
    "Ktedonobacter sp. 13_1_20CM_3_54_15 || 4.80%  \n",
    "Acidobacteria bacterium 13_1_40CM_4_58_4 || 4.45%  \n",
    "Crenarchaeota archaeon 13_1_40CM_3_52_10 || 4.36%  \n",
    "Pseudomonas citronellolis || 2.72%  \n",
    "Nitrospirae bacterium 13_2_20CM_2_63_8 || 2.50%  \n",
    "Acidobacteria bacterium 13_2_20CM_56_17 || 2.34%  \n",
    "(Remaining) || 50.61%  "
   ]
  },
  {
   "cell_type": "markdown",
   "metadata": {},
   "source": [
    "![errorlogfile.PNG](errorlogfile.png)"
   ]
  },
  {
   "cell_type": "code",
   "execution_count": null,
   "metadata": {},
   "outputs": [],
   "source": []
  }
 ],
 "metadata": {
  "kernelspec": {
   "display_name": "Python 3",
   "language": "python",
   "name": "python3"
  },
  "language_info": {
   "codemirror_mode": {
    "name": "ipython",
    "version": 3
   },
   "file_extension": ".py",
   "mimetype": "text/x-python",
   "name": "python",
   "nbconvert_exporter": "python",
   "pygments_lexer": "ipython3",
   "version": "3.6.6"
  }
 },
 "nbformat": 4,
 "nbformat_minor": 2
}
