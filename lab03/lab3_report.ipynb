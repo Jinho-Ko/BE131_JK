{
 "cells": [
  {
   "cell_type": "markdown",
   "metadata": {},
   "source": [
    "# Lab Notebook\n",
    "\n",
    "    Course: BioE 131\n",
    "    Lab No: Lab #3\n",
    "    Submission date: 11/Sep/2018\n",
    "    \n",
    "    Team members: Michael Fernandez, Jinho Ko\n",
    "    "
   ]
  },
  {
   "cell_type": "markdown",
   "metadata": {},
   "source": [
    "# 1. Data Preparation\n",
    "\n",
    "    We filtered the words with our own rules(described in annotation), made it to a dict form, and sorted by the frequency of words (used bubblesort)"
   ]
  },
  {
   "cell_type": "code",
   "execution_count": 1,
   "metadata": {},
   "outputs": [],
   "source": [
    "import sys\n",
    "\n",
    "\n",
    "def splitter(line):\n",
    "    \n",
    "    tmp = []\n",
    "    words = []\n",
    "    \n",
    "    seperator = (' ', '\\n', '.', ',', '?', '!', '[', ']', '(', ')', ';', ':', '\"', '-', )\n",
    "                                                        # ignore special letters that appers in the text\n",
    "    for idx, word in enumerate(line):\n",
    "        if not (word in seperator):\n",
    "            if word is not \"'\":\n",
    "                tmp.append(word)\n",
    "                                                        # if a letter(a-z) comes after \" ' \", include \" ' \" in the word\n",
    "            if word == \"'\" and line[idx+1] not in seperator:\n",
    "                tmp.append(word)\n",
    "        else:\n",
    "            if len(tmp) is 0:                           # ignore empty words\n",
    "                continue\n",
    "            elif ''.join(tmp).upper() == ''.join(tmp):  # ignore all-upper-case words\n",
    "                tmp = []\n",
    "            else:\n",
    "                words.append(''.join(tmp).lower())      # make word lower case\n",
    "                tmp = []\n",
    "                \n",
    "    return words\n",
    "\n",
    "def sorter(words):\n",
    "    \n",
    "    wlist = []\n",
    "\n",
    "    for key in words.keys():\n",
    "        wlist.append([key, words[key]])\n",
    "    \n",
    "    #bubblesort\n",
    "    \n",
    "    for n in range(len(wlist)-1,0,-1):\n",
    "        for i in range(n):\n",
    "            if wlist[i][1]<wlist[i+1][1]:\n",
    "                temp = wlist[i]\n",
    "                wlist[i] = wlist[i+1]\n",
    "                wlist[i+1] = temp\n",
    "                \n",
    "    return wlist\n",
    "\n",
    "#####################################################################################################\n",
    "\n",
    "file = open(\"romeoandjuliet.txt\")\n",
    "\n",
    "worddict = {}\n",
    "\n",
    "for line in file:\n",
    "    for word in splitter(line):\n",
    "        for w in worddict.keys():                       # if key already in worddict.keys()\n",
    "            if w == word:\n",
    "                worddict[word]+=1                       # add 1 to value\n",
    "                break\n",
    "        else:                                           # if new key\n",
    "            worddict[word] = 1                          # add key / set value to 1\n",
    "\n",
    "sorted = sorter(worddict)\n",
    "\n",
    "\n"
   ]
  },
  {
   "cell_type": "markdown",
   "metadata": {},
   "source": [
    "# 2. Graphing\n",
    "    \n",
    "    We draw three following graphs.\n",
    "    1. A graph of every element(rank-frequency) in the sorted list\n",
    "    2. A graph of top 10 frequency\n",
    "    3. A log-log graph of graph 1."
   ]
  },
  {
   "cell_type": "code",
   "execution_count": 6,
   "metadata": {},
   "outputs": [
    {
     "data": {
      "image/png": "[encoded data removed]",
      "text/plain": [
       "<Figure size 432x288 with 1 Axes>"
      ]
     },
     "metadata": {
      "needs_background": "light"
     },
     "output_type": "display_data"
    },
    {
     "data": {
      "image/png": "[encoded data removed]",
      "text/plain": [
       "<Figure size 432x288 with 1 Axes>"
      ]
     },
     "metadata": {
      "needs_background": "light"
     },
     "output_type": "display_data"
    },
    {
     "data": {
      "image/png": "[encoded data removed]",
      "text/plain": [
       "<Figure size 432x288 with 1 Axes>"
      ]
     },
     "metadata": {
      "needs_background": "light"
     },
     "output_type": "display_data"
    }
   ],
   "source": [
    "import matplotlib.pyplot as plt\n",
    "from matplotlib.pyplot import figure\n",
    "import numpy as np\n",
    "import math\n",
    "\n",
    "#++++++++++++++++++++++++++++++++++#\n",
    "#            Graph 1               #\n",
    "#++++++++++++++++++++++++++++++++++#\n",
    "\n",
    "ind = [x[0] for x in sorted]\n",
    "ly = [x[1] for x in sorted]\n",
    "\n",
    "p1 = plt.bar(np.arange(len(sorted)),ly, 0.7 )\n",
    "\n",
    "plt.xlabel('Rank')\n",
    "plt.ylabel('Number of Occurences')\n",
    "    \n",
    "plt.show()\n",
    "\n",
    "#++++++++++++++++++++++++++++++++++#\n",
    "#            Graph 2               #\n",
    "#++++++++++++++++++++++++++++++++++#\n",
    "\n",
    "ly10 = ly[0:10]\n",
    "\n",
    "p1 = plt.bar(ind[0:10],ly10, 0.7 )\n",
    "\n",
    "plt.xlabel('Rank')\n",
    "plt.ylabel('Number of Occurences')\n",
    "\n",
    "plt.show()\n",
    "\n",
    "#++++++++++++++++++++++++++++++++++#\n",
    "#            Graph 3               #\n",
    "#++++++++++++++++++++++++++++++++++#\n",
    "\n",
    "\n",
    "indlog = [ round(math.log10(x),3) for x in range(1,len(sorted)) ]\n",
    "lylog = [ round(math.log10(x[1]),3) for x in sorted ]\n",
    "\n",
    "#p1 = plt.bar(indlog,lylog, 0.7 )\n",
    "p1 = plt.loglog(np.arange(len(sorted)), ly, basex=10)\n",
    "\n",
    "plt.xlabel('Rank')\n",
    "plt.ylabel('Number of Occurences')\n",
    "\n",
    "plt.show()\n",
    "\n"
   ]
  },
  {
   "cell_type": "markdown",
   "metadata": {},
   "source": [
    "# 3. Analysis\n",
    "\n",
    "1. This last plot with the comparsion of number of occurences to Rank in the dictionary demonstrates that their is an exponentially decreasing relationship with the nubmer of times a word occurs in the dictionary and its rank.\n",
    "\n",
    "2. This relationship is also clear in the first linear plotting of the number of occurences."
   ]
  }
 ],
 "metadata": {
  "kernelspec": {
   "display_name": "Python 3",
   "language": "python",
   "name": "python3"
  },
  "language_info": {
   "codemirror_mode": {
    "name": "ipython",
    "version": 3
   },
   "file_extension": ".py",
   "mimetype": "text/x-python",
   "name": "python",
   "nbconvert_exporter": "python",
   "pygments_lexer": "ipython3",
   "version": "3.5.2"
  }
 },
 "nbformat": 4,
 "nbformat_minor": 2
}
