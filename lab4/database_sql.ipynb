{
 "cells": [
  {
   "cell_type": "code",
   "execution_count": 40,
   "metadata": {},
   "outputs": [],
   "source": [
    "import sqlite3\n",
    "conn = sqlite3.connect('lab4.db')\n",
    "\n",
    "c = conn.cursor()"
   ]
  },
  {
   "cell_type": "code",
   "execution_count": 33,
   "metadata": {},
   "outputs": [],
   "source": [
    "# c.execute('''DROP TABLE gene;''')\n",
    "# c.execute('''DROP TABLE enzyme;''')\n",
    "# c.execute('''DROP TABLE en_pa;''')\n",
    "# c.execute('''DROP TABLE pathway;''')"
   ]
  },
  {
   "cell_type": "code",
   "execution_count": 34,
   "metadata": {},
   "outputs": [
    {
     "ename": "OperationalError",
     "evalue": "table gene already exists",
     "output_type": "error",
     "traceback": [
      "\u001b[0;31m---------------------------------------------------------------------------\u001b[0m",
      "\u001b[0;31mOperationalError\u001b[0m                          Traceback (most recent call last)",
      "\u001b[0;32m<ipython-input-34-a134cd9d335d>\u001b[0m in \u001b[0;36m<module>\u001b[0;34m()\u001b[0m\n\u001b[1;32m      1\u001b[0m c.execute('''CREATE TABLE gene\n\u001b[0;32m----> 2\u001b[0;31m              (id INT, name TEXT, sequence TEXT, eid INT )''')\n\u001b[0m\u001b[1;32m      3\u001b[0m \u001b[0;34m\u001b[0m\u001b[0m\n\u001b[1;32m      4\u001b[0m c.execute('''CREATE TABLE enzyme\n\u001b[1;32m      5\u001b[0m             (id INT, name TEXT, function TEXT, ecnum TEXT )''')\n",
      "\u001b[0;31mOperationalError\u001b[0m: table gene already exists"
     ]
    }
   ],
   "source": [
    "c.execute('''CREATE TABLE gene\n",
    "             (id INT, name TEXT, sequence TEXT, eid INT )''')\n",
    "\n",
    "c.execute('''CREATE TABLE enzyme\n",
    "            (id INT, name TEXT, function TEXT, ecnum TEXT )''')\n",
    "\n",
    "c.execute('''CREATE TABLE en_pa (eid INT, pid INT, priority INT )''')\n",
    "\n",
    "c.execute('''CREATE TABLE pathway\n",
    "             (id INT, name TEXT, description TEXT )''')"
   ]
  },
  {
   "cell_type": "code",
   "execution_count": 4,
   "metadata": {},
   "outputs": [],
   "source": [
    "# Add pathway\n",
    "\n",
    "pa_file = open(\"lab4_pathway_data\")\n",
    "\n",
    "name = ''\n",
    "description = ''\n",
    "\n",
    "iterator = 1\n",
    "\n",
    "for i, line in enumerate(pa_file):\n",
    "\n",
    "    line = line.replace('\\n', '')\n",
    "    \n",
    "    if '#' in line:\n",
    "        continue\n",
    "        \n",
    "    if i%3 is 0:\n",
    "        name = line\n",
    "    elif i%3 is 1:\n",
    "        description = line\n",
    "    elif i%3 is 2:\n",
    "        c.execute(\"INSERT INTO pathway (id, name, description) VALUES (\"+ str(iterator) + \", '\" + name + \"', '\" + description + \"' )\" )        \n",
    "        iterator+=1\n",
    "\n",
    "conn.commit()\n"
   ]
  },
  {
   "cell_type": "code",
   "execution_count": 5,
   "metadata": {},
   "outputs": [],
   "source": [
    "# Add enzyme\n",
    "\n",
    "enz_file = open(\"lab4_enzyme_data\")\n",
    "\n",
    "name = ''\n",
    "pathorder = []\n",
    "function = ''\n",
    "ECnum = ''\n",
    "\n",
    "iterator = 1\n",
    "\n",
    "\n",
    "for i, line in enumerate(enz_file):\n",
    "\n",
    "    line = line.replace('\\n', '')\n",
    "    \n",
    "    if '#' in line:\n",
    "        continue\n",
    "    if i%5 is 0:\n",
    "        name = line\n",
    "    elif i%5 is 1:\n",
    "        pathorder = line.split(',')\n",
    "        for i, item in enumerate(pathorder):\n",
    "            pathorder[i] = pathorder[i].split('|')\n",
    "            pathorder[i][1] = int(pathorder[i][1])\n",
    "    elif i%5 is 2:\n",
    "        function = line\n",
    "    elif i%5 is 3:\n",
    "        ECnum = line\n",
    "    elif i%5 is 4:\n",
    "        c.execute(\"INSERT INTO enzyme (id, name, function, ecnum) VALUES (\"+ str(iterator) + \", '\" + name + \"', '\" + function +\"', '\"+ ECnum + \"' )\" )\n",
    "        \n",
    "        ### TODO ###\n",
    "        for rep in range(len(pathorder)):\n",
    "            c.execute(\"INSERT INTO en_pa (eid, pid, priority) VALUES (\"+ str(iterator) + \",\" + \"(select id from pathway where name = \"+\"'\"+pathorder[rep][0]+\"')\"+\" ,\"+str(pathorder[rep][1])+\")\")\n",
    "            \n",
    "        iterator+=1\n",
    "        \n",
    "conn.commit()"
   ]
  },
  {
   "cell_type": "code",
   "execution_count": 3,
   "metadata": {},
   "outputs": [
    {
     "name": "stderr",
     "output_type": "stream",
     "text": [
      "IOPub data rate exceeded.\n",
      "The notebook server will temporarily stop sending output\n",
      "to the client in order to avoid crashing it.\n",
      "To change this limit, set the config variable\n",
      "`--NotebookApp.iopub_data_rate_limit`.\n",
      "\n",
      "Current values:\n",
      "NotebookApp.iopub_data_rate_limit=1000000.0 (bytes/sec)\n",
      "NotebookApp.rate_limit_window=3.0 (secs)\n",
      "\n"
     ]
    }
   ],
   "source": [
    "#Search for Genes: Drosophila_melanogaster : Drosophila_melanogaster_sequen.fasta\n",
    "from Bio import Entrez\n",
    "from Bio import SeqIO\n",
    "from Bio.SeqRecord import SeqRecord\n",
    "\n",
    "#Enzyme List:\n",
    "#               Triosephosphate isomerase   \n",
    "#                 Phosphoglycerate kinase   \n",
    "#         Phosphoenolpyruvate carboxylase   \n",
    "#                         Pyruvate kinase   \n",
    "#       Glucose-6-phosphate dehydrogenase   \n",
    "#                        Gluconolactonase   \n",
    "#        6-phosphogluconate dehydrogenase   \n",
    "#                           Transaldolase   \n",
    "#                Succinate dehydrogenase   \n",
    "#                               Fumarase   \n",
    "#                  Malate dehydrogenase   \n",
    "#                      Citrate synthase\n",
    "\n",
    "# Possibble db\n",
    "\n",
    "\n",
    "\n",
    "\n",
    "Entrez.email = 'mike.ferna512@berkeley.edu'\n",
    "handle = Entrez.esearch(db='nucleotide',\n",
    "                       term='Drosophila melanogaster Phosphoenolpyruvate carboxylase',\n",
    "                       sort='relevance',\n",
    "                       idtype='acc')\n",
    "\n",
    "for i in Entrez.read(handle)['IdList']:\n",
    "    handle = Entrez.efetch(db='nucleotide',id = i, rettype='fasta', retmode='text', retmax = 1)\n",
    "    ids = i;\n",
    "    break\n",
    "# make sure to view sequence before adding to database to be sure it is the correct sequence\n",
    "handle = Entrez.efetch(db=\"nucleotide\", id= ids, rettype=\"fasta\", retmode=\"text\")\n",
    "record = handle.read()\n",
    "print(record)\n",
    "\n",
    "\n",
    "\n"
   ]
  },
  {
   "cell_type": "code",
   "execution_count": null,
   "metadata": {},
   "outputs": [],
   "source": [
    "#----------------------#\n",
    "# Add sequence to Drosophila_melanogaster_sequen.fasta\n",
    "    \n",
    "record1 = open('Drosophila_melanogaster_sequen.fasta', 'a+')\n",
    "\n",
    "handle = Entrez.efetch(db=\"nucleotide\", id= ids, rettype=\"fasta\", retmode=\"text\")\n",
    "record = handle.read()\n",
    "print(record)\n",
    "record1.write(record) \n"
   ]
  },
  {
   "cell_type": "code",
   "execution_count": 6,
   "metadata": {},
   "outputs": [],
   "source": [
    "# Add Gene\n",
    "\n",
    "\n",
    "\n",
    "conn.commit()"
   ]
  },
  {
   "cell_type": "code",
   "execution_count": 41,
   "metadata": {},
   "outputs": [
    {
     "name": "stdout",
     "output_type": "stream",
     "text": [
      "    id                               name  \\\n",
      "0    1          Triosephosphate isomerase   \n",
      "1    2            Phosphoglycerate kinase   \n",
      "2    3    Phosphoenolpyruvate carboxylase   \n",
      "3    4                    Pyruvate kinase   \n",
      "4    5  Glucose-6-phosphate dehydrogenase   \n",
      "5    6                   Gluconolactonase   \n",
      "6    7   6-phosphogluconate dehydrogenase   \n",
      "7    8                      Transaldolase   \n",
      "8    9            Succinate dehydrogenase   \n",
      "9   10                           Fumarase   \n",
      "10  11               Malate dehydrogenase   \n",
      "11  12                   Citrate synthase   \n",
      "\n",
      "                                             function        ecnum  \n",
      "0   catalyzes the reversible interconversion of th...   EC 5.3.1.1  \n",
      "1   catalyzes the reversible transfer of a phospha...   EC 2.7.2.3  \n",
      "2   an enzyme in the family of carboxy-lyases foun...  EC 4.1.1.31  \n",
      "3   It catalyzes the transfer of a phosphate group...  EC 2.7.1.40  \n",
      "4   D-glucose 6-phosphate + NADP⁺ ⇌ 6-phospho-D-gl...  EC 1.1.1.49  \n",
      "5   This enzyme belongs to the family of hydrolase...  EC 3.1.1.17  \n",
      "6   It forms ribulose 5-phosphate from 6-phosphogl...  EC 1.1.1.44  \n",
      "7   transaldolase:catalyzes the following reaction...   EC 2.2.1.2  \n",
      "8   This enzyme catalyzes the oxidation of succina...   EC 1.3.5.1  \n",
      "9   It catalyzes the reversible hydration/dehydrat...   EC 4.2.1.2  \n",
      "10  It reversibly catalyzes the oxidation of malat...  EC 1.1.1.37  \n",
      "11  It catalyzes the condensation reaction of the ...   EC 2.3.3.1  \n",
      "   id               name                                        description\n",
      "0   1         glycolysis  metabolic pathway that converts glucose C6H12O...\n",
      "1   2  pentose phosphate  metabolic pathway parallel to glycolysis, gene...\n",
      "2   3          TCA cycle  a series of chemical reactions used by all aer...\n",
      "    eid  pid  priority\n",
      "0     1    1         1\n",
      "1     2    1         2\n",
      "2     3    1         3\n",
      "3     4    1         4\n",
      "4     4    2         0\n",
      "5     5    2         1\n",
      "6     5    1         0\n",
      "7     6    2         2\n",
      "8     7    2         3\n",
      "9     8    2         4\n",
      "10    9    3         1\n",
      "11   10    3         2\n",
      "12   11    3         3\n",
      "13   11    1         0\n",
      "14   12    3         4\n"
     ]
    }
   ],
   "source": [
    "# print table\n",
    "\n",
    "import pandas as pd\n",
    "\n",
    "#print (pd.read_sql_query(\"SELECT * FROM gene;\",conn))\n",
    "print (pd.read_sql_query(\"SELECT * FROM enzyme;\", conn))\n",
    "print (pd.read_sql_query(\"SELECT * FROM pathway;\", conn))\n",
    "print (pd.read_sql_query(\"SELECT * FROM en_pa;\", conn))"
   ]
  },
  {
   "cell_type": "code",
   "execution_count": 38,
   "metadata": {},
   "outputs": [
    {
     "name": "stdout",
     "output_type": "stream",
     "text": [
      "   id                               name\n",
      "0   5  Glucose-6-phosphate dehydrogenase\n",
      "1   6                   Gluconolactonase\n",
      "2   7   6-phosphogluconate dehydrogenase\n",
      "3   8                      Transaldolase\n"
     ]
    }
   ],
   "source": [
    "# view by enzyme priority in each pathway SORTED BY ORDER!!\n",
    "\n",
    "print(pd.read_sql_query(\"SELECT enzyme.id, enzyme.name FROM enzyme INNER JOIN en_pa on enzyme.id = en_pa.eid WHERE en_pa.pid = 2 and en_pa.priority>0 ORDER BY en_pa.priority ASC ;\", conn))\n",
    "print(pd.read_sql_query(\"SElECT \"))\n",
    "# sort enzymes by iwhere pid=1 and have priority information(priority>0)\n"
   ]
  },
  {
   "cell_type": "code",
   "execution_count": null,
   "metadata": {},
   "outputs": [],
   "source": []
  }
 ],
 "metadata": {
  "kernelspec": {
   "display_name": "Python 3",
   "language": "python",
   "name": "python3"
  },
  "language_info": {
   "codemirror_mode": {
    "name": "ipython",
    "version": 3
   },
   "file_extension": ".py",
   "mimetype": "text/x-python",
   "name": "python",
   "nbconvert_exporter": "python",
   "pygments_lexer": "ipython3",
   "version": "3.5.2"
  }
 },
 "nbformat": 4,
 "nbformat_minor": 2
}
